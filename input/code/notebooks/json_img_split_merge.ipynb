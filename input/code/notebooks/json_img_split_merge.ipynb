{
 "cells": [
  {
   "cell_type": "code",
   "execution_count": 68,
   "id": "25d869ee-51e1-4b0a-9d38-3eaa464491b1",
   "metadata": {},
   "outputs": [],
   "source": [
    "import json\n",
    "import random\n",
    "import shutil\n",
    "import os\n",
    "random.seed(23) ######### seed 고정"
   ]
  },
  {
   "cell_type": "code",
   "execution_count": 69,
   "id": "cb5e8cb4-0fb0-416b-83c7-1fb02b26c185",
   "metadata": {},
   "outputs": [],
   "source": [
    "def split_json_images(json_filename, img_dir, train_ratio, train_output_json, val_output_json,\n",
    "                      train_output_img, val_output_img):\n",
    "    with open(json_filename, 'r') as f:\n",
    "        data = json.load(f)\n",
    "    root = \"/opt/ml/input/data/medical/img\"\n",
    "    image_filenames = list(data['images'].keys())\n",
    "    total_images = len(image_filenames)\n",
    "    train_size = int(total_images * train_ratio)\n",
    "\n",
    "    random.shuffle(image_filenames)\n",
    "\n",
    "    train_filenames = image_filenames[:train_size]  # train file name list\n",
    "    val_filenames = image_filenames[train_size:]  # val file name list\n",
    "\n",
    "    train_data = {'images': {filename: data['images'][filename] for filename in train_filenames}}\n",
    "    val_data = {'images': {filename: data['images'][filename] for filename in val_filenames}}\n",
    "\n",
    "    with open(train_output_json, 'w') as train_file:\n",
    "        json.dump(train_data, train_file, indent=2)\n",
    "\n",
    "    with open(val_output_json, 'w') as val_file:\n",
    "        json.dump(val_data, val_file, indent=2)\n",
    "\n",
    "    train_output_img_path = os.path.join(root, train_output_img)\n",
    "    os.makedirs(train_output_img_path, exist_ok=True)\n",
    "    print(train_output_img_path)\n",
    "    for filename in train_filenames:\n",
    "        src_img_path = os.path.join(root, img_dir, filename)\n",
    "        dst_img_path = os.path.join(train_output_img_path, filename)\n",
    "        shutil.copy(src_img_path, dst_img_path)\n",
    "\n",
    "    val_output_img_path = os.path.join(root, val_output_img)\n",
    "    os.makedirs(val_output_img_path, exist_ok=True)\n",
    "    print(val_output_img_path)\n",
    "    for filename in val_filenames:\n",
    "        src_img_path = os.path.join(root, img_dir, filename)\n",
    "        dst_img_path = os.path.join(val_output_img_path, filename)\n",
    "        shutil.copy(src_img_path, dst_img_path)\n",
    "\n",
    "# ex :   split_json_images('./train_origin.json', 'train', 0.8, './train.json', './val.json', 'train_images', 'val_images')   )"
   ]
  },
  {
   "cell_type": "code",
   "execution_count": 70,
   "id": "e79af9cc-5f25-4899-9fbc-dab1d83cfaf3",
   "metadata": {},
   "outputs": [],
   "source": [
    "## 이미지 개수 확인하기 (잘 분리됐는지 or 합쳐졌는지 확인)\n",
    "\n",
    "def json_num(path): #json의 images key 개수\n",
    "    with open(path, 'r') as f:\n",
    "      data = json.load(f)\n",
    "    images = data['images']\n",
    "    return len(images)\n",
    "\n",
    "# ex : json_num('./train_origin.json')\n",
    "\n",
    "def img_num(path): #이미지파일 개수\n",
    "    file_list = os.listdir(path)\n",
    "    return len(file_list)\n",
    "\n",
    "# ex : img_num(\"/opt/ml/input/data/medical/img/train_images\")"
   ]
  },
  {
   "cell_type": "code",
   "execution_count": 71,
   "id": "67c931df-be05-446a-9d0c-327c4ffdca15",
   "metadata": {},
   "outputs": [],
   "source": [
    "def merge_json(file1, file2, output_json, file1_img_dir, file2_img_dir, output_img_dir):\n",
    "    with open(file1, 'r') as f:\n",
    "        data1 = json.load(f)\n",
    "\n",
    "    with open(file2, 'r') as f:\n",
    "        data2 = json.load(f)\n",
    "\n",
    "    merged_data = {}\n",
    "\n",
    "    # file 1\n",
    "    for filename, image_data in data1['images'].items():\n",
    "        merged_data[filename] = image_data\n",
    "\n",
    "    # file 2\n",
    "    for filename, image_data in data2['images'].items():\n",
    "        merged_data[filename] = image_data\n",
    "\n",
    "    merged_json = {'images': merged_data}\n",
    "\n",
    "    with open(output_json, 'w') as file:\n",
    "        json.dump(merged_json, file, indent=2)\n",
    "\n",
    "\n",
    "    image_dir = \"/opt/ml/input/data/medical/img\"\n",
    "    train_image_dir = os.path.join(image_dir, file1_img_dir)\n",
    "    val_image_dir = os.path.join(image_dir, file2_img_dir)\n",
    "\n",
    "    merged_image_dir = os.path.join(image_dir, output_img_dir)\n",
    "\n",
    "    # Create the merged output directory\n",
    "    os.makedirs(merged_image_dir, exist_ok=True)\n",
    "\n",
    "    # Copy images from train_images directory\n",
    "    for filename in os.listdir(train_image_dir):\n",
    "        src_img_path = os.path.join(train_image_dir, filename)\n",
    "        dst_img_path = os.path.join(merged_image_dir, filename)\n",
    "        shutil.copy(src_img_path, dst_img_path)\n",
    "\n",
    "    # Copy images from val_images directory\n",
    "    for filename in os.listdir(val_image_dir):\n",
    "        src_img_path = os.path.join(val_image_dir, filename)\n",
    "        dst_img_path = os.path.join(merged_image_dir, filename)\n",
    "        shutil.copy(src_img_path, dst_img_path)\n",
    "\n",
    "\n",
    "# ex : merge_json('./train.json', './val.json', './merge1.json', 'train_images', 'val_images', 'merge1')"
   ]
  },
  {
   "cell_type": "code",
   "execution_count": 59,
   "id": "5a903051-706f-4893-8a46-bacd4882d369",
   "metadata": {},
   "outputs": [
    {
     "data": {
      "text/plain": [
       "100"
      ]
     },
     "execution_count": 59,
     "metadata": {},
     "output_type": "execute_result"
    }
   ],
   "source": [
    " img_num(\"/opt/ml/input/data/medical/img/train\")"
   ]
  },
  {
   "cell_type": "markdown",
   "id": "2b6a19a7-c746-4cb3-bf7b-e6022b838b52",
   "metadata": {},
   "source": [
    "\n",
    "seed = 23 <br>\n",
    "<b><<과정1>></b><br> 실제 train.json에서 0.8/0.2 비율로 나눠주기 => train1.json / val1.json <br>\n",
    "<b><<과정2>></b><br> 실습결과물 annotation.json에서 0.8/0.2 => train2.json / val2.json\n",
    "\n",
    "<b><<과정 3>></b><br>\n",
    "train1 + train2 => <b>train_split.json</b> <br>\n",
    "val1 + val2 => <b>val_split.json</b>\n"
   ]
  },
  {
   "cell_type": "code",
   "execution_count": 60,
   "id": "fda07fb1-945e-48c4-8524-4a6b8a93809d",
   "metadata": {},
   "outputs": [
    {
     "name": "stdout",
     "output_type": "stream",
     "text": [
      "<<과정1>>\n",
      "/opt/ml/input/data/medical/img/train1\n",
      "/opt/ml/input/data/medical/img/val1\n",
      "전체 json:  100 \n",
      "train1.json :  80 \n",
      "val1.json :  20\n",
      "\n",
      "전체 img :  100 \n",
      "train 이미지 :  80 \n",
      "val 이미지 :  20\n"
     ]
    }
   ],
   "source": [
    "print(\"<<과정1>>\")\n",
    "split_json_images('./train.json', \"train\", 0.8, './train1.json', './val1.json', 'train1', 'val1')  \n",
    "print(\"전체 json: \", json_num('./train.json'), \"\\ntrain1.json : \", json_num('./train1.json'), \"\\nval1.json : \", json_num('./val1.json') )\n",
    "print(\"\\n전체 img : \", img_num(\"/opt/ml/input/data/medical/img/train\"), \"\\ntrain 이미지 : \", img_num(\"/opt/ml/input/data/medical/img/train1\"), \"\\nval 이미지 : \", img_num(\"/opt/ml/input/data/medical/img/val1\") )"
   ]
  },
  {
   "cell_type": "code",
   "execution_count": 61,
   "id": "b99802c1",
   "metadata": {},
   "outputs": [
    {
     "name": "stdout",
     "output_type": "stream",
     "text": [
      "<<과정2>>\n",
      "/opt/ml/input/data/medical/img/train2\n",
      "/opt/ml/input/data/medical/img/val2\n",
      "전체 json:  201 \n",
      "train2.json :  160 \n",
      "val2.json :  41\n",
      "\n",
      "전체 img :  201 \n",
      "train2 이미지 :  160 \n",
      "val2 이미지 :  41\n"
     ]
    }
   ],
   "source": [
    "print(\"<<과정2>>\")\n",
    "split_json_images('./annotation.json', \"anno\", 0.8, './train2.json', './val2.json', 'train2', 'val2')  \n",
    "print(\"전체 json: \", json_num('./annotation.json'), \"\\ntrain2.json : \", json_num('./train2.json'), \"\\nval2.json : \", json_num('./val2.json') )\n",
    "print(\"\\n전체 img : \", img_num(\"/opt/ml/input/data/medical/img/anno\"), \"\\ntrain2 이미지 : \", img_num(\"/opt/ml/input/data/medical/img/train2\"), \"\\nval2 이미지 : \", img_num(\"/opt/ml/input/data/medical/img/val2\") )"
   ]
  },
  {
   "cell_type": "code",
   "execution_count": 62,
   "id": "61418f72-a1ef-4be9-bcf1-a620f9f40b51",
   "metadata": {},
   "outputs": [
    {
     "name": "stdout",
     "output_type": "stream",
     "text": [
      "<<과정3>>\n",
      "3-1: train1 + train2 => train_split\n",
      "train split 개수 :  240 240\n",
      "\n",
      "3-2: val1 + val2 => val_split\n",
      "val split 개수 :  61 61\n"
     ]
    }
   ],
   "source": [
    "print(\"<<과정3>>\")\n",
    "print(\"3-1: train1 + train2 => train_split\")\n",
    "merge_json('./train1.json', './train2.json', './train_anno_split.json', 'train1', 'train2', 'train_anno')\n",
    "print(\"train split 개수 : \",json_num('./train_anno_split.json'), img_num(\"/opt/ml/input/data/medical/img/train_anno\"))\n",
    "print(\"\\n3-2: val1 + val2 => val_split\")\n",
    "merge_json('./val1.json', './val2.json', './val_anno_split.json', 'val1', 'val2', 'val_anno')\n",
    "print(\"val split 개수 : \",json_num('./val_anno_split.json'), img_num(\"/opt/ml/input/data/medical/img/val_anno\"))"
   ]
  },
  {
   "attachments": {
    "08f61ada-b94b-4bd2-9d51-23055b4f8b5c.png": {
     "image/png": "[encoded data removed]"
    },
    "486d3322-4b5f-4a2c-91fc-06ee0869811f.png": {
     "image/png": "[encoded data removed]"
    }
   },
   "cell_type": "markdown",
   "id": "25643495-3a43-4231-b8d7-f83e0a1c2816",
   "metadata": {},
   "source": [
    "<br>--------------------------------------------------------------------------------------------<br>\n",
    "가독성 문제 <br><br>\n",
    "![image.png](attachment:08f61ada-b94b-4bd2-9d51-23055b4f8b5c.png)  ![image.png](attachment:486d3322-4b5f-4a2c-91fc-06ee0869811f.png) <br>\n",
    "aistage 서버에서 직접 볼 땐 문제가 없는데, <br>\n",
    "vs code에서 볼 땐, trainscription이 유니코드로 보임. => 실제론 같은거고, 단어내용 label을 학습하는 건 아니니깐 딱히 학습에는 문제가 없을 것 같은데.. <br>가독성이 떨어지기도 하고 혹시나 문제가 될 수 있으니...."
   ]
  },
  {
   "cell_type": "code",
   "execution_count": 64,
   "id": "d9c7f8bb-984e-4708-b172-c6b27a1bd323",
   "metadata": {},
   "outputs": [],
   "source": [
    "## 위 문제 해결\n",
    "\n",
    "\n",
    "def json_decode(input_file, output_file):\n",
    "    with open(input_file, 'r') as file:\n",
    "        data = json.load(file)\n",
    "\n",
    "    decoded_data = {}\n",
    "    for key, value in data.items():\n",
    "        if isinstance(value, dict):\n",
    "            decoded_value = {}\n",
    "            for k, v in value.items():\n",
    "                if k == \"transcription\" and isinstance(v, str):\n",
    "                    decoded_value[k] = v.encode().decode('unicode_escape')\n",
    "                else:\n",
    "                    decoded_value[k] = v\n",
    "            decoded_data[key] = decoded_value\n",
    "        else:\n",
    "            decoded_data[key] = value\n",
    "\n",
    "    with open(output_file, 'w') as file:\n",
    "        json.dump(decoded_data, file, ensure_ascii=False, indent=2) \n",
    "\n"
   ]
  },
  {
   "cell_type": "code",
   "execution_count": 67,
   "id": "43bd98d1-4973-4a8b-9bea-9ade02adb0e9",
   "metadata": {},
   "outputs": [
    {
     "name": "stdout",
     "output_type": "stream",
     "text": [
      "train만\n",
      "train split 개수 :  80\n",
      "val split 개수 :  20\n",
      "\n",
      " train + anno\n",
      "train split 개수 :  240\n",
      "val split 개수 :  61\n"
     ]
    }
   ],
   "source": [
    "## train 만\n",
    "print(\"train만\")\n",
    "json_decode('./train1.json', './train1_decoded.json')\n",
    "json_decode('./val1.json', './val1_decoded.json')\n",
    "print(\"train split 개수 : \",json_num('./train1_decoded.json'))\n",
    "print(\"val split 개수 : \",json_num('./val1_decoded.json'))\n",
    "\n",
    "### train + anno\n",
    "print(\"\\n train + anno\")\n",
    "json_decode('./train_anno_split.json', './train_anno_split_decoded.json')\n",
    "json_decode('./val_anno_split.json', './val_anno_split_decoded.json')\n",
    "print(\"train split 개수 : \",json_num('./train_anno_split_decoded.json'))\n",
    "print(\"val split 개수 : \",json_num('./val_anno_split_decoded.json'))"
   ]
  },
  {
   "attachments": {
    "365b31ac-1343-4ae1-a37f-a223471c1ef7.png": {
     "image/png": "[encoded data removed]"
    },
    "37ae2324-c0d1-4bb5-a1b8-1cb15968fd63.png": {
     "image/png": "[encoded data removed]"
    }
   },
   "cell_type": "markdown",
   "id": "adba0c74-b4de-40b9-b870-f5011d58150c",
   "metadata": {},
   "source": [
    "<br><br>-----------------------------------------------------------------------<br>\n",
    "![image.png](attachment:365b31ac-1343-4ae1-a37f-a223471c1ef7.png) <br>\n",
    "일단은 해결한 것 같음<br>\n",
    "<최종 양식><br>\n",
    "![image.png](attachment:37ae2324-c0d1-4bb5-a1b8-1cb15968fd63.png)"
   ]
  },
  {
   "cell_type": "markdown",
   "id": "82c1ccfe-de5f-4f9a-ad5e-8d8392e334f5",
   "metadata": {},
   "source": [
    "## train + anno nosplit"
   ]
  },
  {
   "cell_type": "code",
   "execution_count": 76,
   "id": "4cbeebb6-7100-4941-889d-477b31dbcdbc",
   "metadata": {},
   "outputs": [],
   "source": [
    "merge_json('./train.json', './annotation.json', './train_anno_nosplit.json', 'anno', 'train', 'train_anno_nosplit') #(file1, file2, output_json, file1_img_dir, file2_img_dir, output_img_dir):"
   ]
  },
  {
   "cell_type": "code",
   "execution_count": 77,
   "id": "ba468590-3421-44e9-a933-fce6d7fd121a",
   "metadata": {},
   "outputs": [
    {
     "name": "stdout",
     "output_type": "stream",
     "text": [
      "301\n"
     ]
    }
   ],
   "source": [
    "print(img_num(\"/opt/ml/input/data/medical/img/train_anno_nosplit\"))"
   ]
  },
  {
   "cell_type": "code",
   "execution_count": 78,
   "id": "2f7a8179-016d-42fe-b41b-f7feab4d7c3f",
   "metadata": {},
   "outputs": [
    {
     "name": "stdout",
     "output_type": "stream",
     "text": [
      "301\n"
     ]
    }
   ],
   "source": [
    "print(json_num(\"./train_anno_nosplit.json\"))"
   ]
  },
  {
   "cell_type": "code",
   "execution_count": 79,
   "id": "35f95264-5d92-43f4-b442-c7b29b56bc16",
   "metadata": {},
   "outputs": [],
   "source": [
    "json_decode('./train_anno_nosplit.json', './train_anno_nosplit.json')"
   ]
  },
  {
   "cell_type": "code",
   "execution_count": null,
   "id": "3624b251-93bf-4430-9b06-61c346d7c362",
   "metadata": {},
   "outputs": [],
   "source": []
  }
 ],
 "metadata": {
  "kernelspec": {
   "display_name": "Python 3 (ipykernel)",
   "language": "python",
   "name": "python3"
  },
  "language_info": {
   "codemirror_mode": {
    "name": "ipython",
    "version": 3
   },
   "file_extension": ".py",
   "mimetype": "text/x-python",
   "name": "python",
   "nbconvert_exporter": "python",
   "pygments_lexer": "ipython3",
   "version": "3.8.5"
  }
 },
 "nbformat": 4,
 "nbformat_minor": 5
}
